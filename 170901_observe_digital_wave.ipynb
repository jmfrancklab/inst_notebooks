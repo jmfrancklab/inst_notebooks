{
 "cells": [
  {
   "cell_type": "code",
   "execution_count": 1,
   "metadata": {},
   "outputs": [
    {
     "name": "stdout",
     "output_type": "stream",
     "text": [
      "Populating the interactive namespace from numpy and matplotlib\n"
     ]
    }
   ],
   "source": [
    "%pylab inline\n",
    "%load_ext pyspecdata.ipy\n",
    "from Instruments import *\n",
    "from pyspecdata import *\n",
    "import time"
   ]
  },
  {
   "cell_type": "markdown",
   "metadata": {},
   "source": [
    "set the sine wave"
   ]
  },
  {
   "cell_type": "code",
   "execution_count": 2,
   "metadata": {},
   "outputs": [
    {
     "name": "stdout",
     "output_type": "stream",
     "text": [
      "CH1 burst set to False\n",
      "now, I try to turn burst on\n",
      "CH1 burst set to True\n",
      "now, I turn on the output\n",
      "now, capture the data\n",
      "turn off the output again\n"
     ]
    }
   ],
   "source": [
    "with AFG() as a:\n",
    "    a.reset()\n",
    "    x = r_[-6:6:200j]\n",
    "    a.digital_ndarray(exp(-x**2))\n",
    "    print \"CH1 burst set to\",a.CH1.burst\n",
    "    print \"now, I try to turn burst on\"\n",
    "    a.CH1.burst = True\n",
    "    print \"CH1 burst set to\",a.CH1.burst\n",
    "    print \"now, I turn on the output\"\n",
    "    a.CH1.output = True\n",
    "    print \"now, capture the data\"\n",
    "    time.sleep(1)\n",
    "    # grab it on the scope\n",
    "    with GDS_scope() as g:\n",
    "        g.autoset()\n",
    "        data = g.waveform(ch=2)\n",
    "    print \"turn off the output again\"\n",
    "    a.CH1.output = False"
   ]
  },
  {
   "cell_type": "markdown",
   "metadata": {},
   "source": [
    "plot the result"
   ]
  },
  {
   "cell_type": "code",
   "execution_count": 3,
   "metadata": {},
   "outputs": [
    {
     "data": {
      "text/plain": []
     },
     "execution_count": 3,
     "metadata": {},
     "output_type": "execute_result"
    },
    {
     "data": {
      "image/png": "[encoded data removed]",
      "text/plain": [
       "<matplotlib.figure.Figure at 0xcb49b70>"
      ]
     },
     "metadata": {},
     "output_type": "display_data"
    }
   ],
   "source": [
    "data"
   ]
  },
  {
   "cell_type": "code",
   "execution_count": null,
   "metadata": {
    "collapsed": true
   },
   "outputs": [],
   "source": []
  }
 ],
 "metadata": {
  "kernelspec": {
   "display_name": "Python 2",
   "language": "python",
   "name": "python2"
  },
  "language_info": {
   "codemirror_mode": {
    "name": "ipython",
    "version": 2
   },
   "file_extension": ".py",
   "mimetype": "text/x-python",
   "name": "python",
   "nbconvert_exporter": "python",
   "pygments_lexer": "ipython2",
   "version": "2.7.13"
  }
 },
 "nbformat": 4,
 "nbformat_minor": 2
}
