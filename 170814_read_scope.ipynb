{
 "cells": [
  {
   "cell_type": "code",
   "execution_count": null,
   "metadata": {},
   "outputs": [],
   "source": [
    "%pylab inline\n",
    "from serial.tools.list_ports import comports, grep\n",
    "import serial\n",
    "\n",
    "print [j for j in comports()]\n",
    "\n",
    "dev_name = [j[0] for j in grep(\"GDS_3254\")][0]\n",
    "dev_name\n"
   ]
  },
  {
   "cell_type": "code",
   "execution_count": null,
   "metadata": {},
   "outputs": [],
   "source": [
    "#Opens port and identifies what is connected to the port\n",
    "#Should return insturment identity\n",
    "serial.Serial?\n",
    "with serial.Serial(dev_name) as s:\n",
    "    s.write('*idn?\\n')\n",
    "    result = s.readline()\n",
    "result"
   ]
  },
  {
   "cell_type": "code",
   "execution_count": null,
   "metadata": {},
   "outputs": [],
   "source": [
    "#Opens port and acquires what is saved in memory as string\n",
    "#Divides this string at hashtag which separates settings from waveform\n",
    "params = {}\n",
    "with serial.Serial(dev_name, timeout=1) as s:\n",
    "    s.write(':ACQ1:MEM?\\n')\n",
    "    def upto_hashtag():\n",
    "        this_char = s.read(1)\n",
    "        this_line = ''\n",
    "        while this_char != '#':          \n",
    "            this_line += this_char\n",
    "            this_char = s.read(1)\n",
    "        return this_line\n",
    "\n",
    "    #Further divides settings\n",
    "    preamble = upto_hashtag().split(';')\n",
    "    \n",
    "    #Retrieves 'memory' of 25000 from settings\n",
    "    #Waveform data is 50,000 bytes of binary data (2*mem)\n",
    "    mem = int(preamble[0].split(',')[1])\n",
    "    \n",
    "    #Generates list of parameters in the preamble\n",
    "    param = dict([tuple(x.split(',')) for x in preamble if len(x.split(',')) == 2])\n",
    "    print param\n",
    "    #for x in preamble:\n",
    "    #    print x.split(',')\n",
    "    \n",
    "    #Reads waveform data of 50,000 bytes\n",
    "    s.read(6)# length of 550000\n",
    "    data = s.read(50001)\n",
    "    assert data[-1] == '\\n', \"data is not followed by newline!\"\n",
    "    data = data[:-1]\n",
    "    "
   ]
  },
  {
   "cell_type": "code",
   "execution_count": null,
   "metadata": {},
   "outputs": [],
   "source": [
    "dict([('memory','50'), ('something else','20')])"
   ]
  },
  {
   "cell_type": "code",
   "execution_count": null,
   "metadata": {},
   "outputs": [],
   "source": [
    "#Gathers and stores information about waveform data from preamble\n",
    "source = preamble[4].split(',')[1]\n",
    "print source\n",
    "chnum = int(source[2])\n",
    "print chnum\n",
    "yscale = preamble[6].split(',')[1]\n",
    "print yscale\n",
    "yunits = preamble[5].split(',')[1]\n",
    "print yunits\n",
    "xscale = preamble[10].split(',')[1]\n",
    "print xscale\n",
    "xunits = preamble[9].split(',')[1]\n",
    "print xunits"
   ]
  },
  {
   "cell_type": "code",
   "execution_count": null,
   "metadata": {},
   "outputs": [],
   "source": [
    "Serial.serial?"
   ]
  },
  {
   "cell_type": "code",
   "execution_count": null,
   "metadata": {
    "scrolled": true
   },
   "outputs": [],
   "source": [
    "#Plots waveform data\n",
    "data_array = fromstring(data,dtype='i2')\n",
    "print len(data_array)\n",
    "plot(double(data_array)/double(2**(2*8-1)))\n",
    "pylab.title(source)\n",
    "pylab.ylabel(yunits+' ('+yscale+')')\n",
    "pylab.xlabel(xunits+' ('+xscale+')')"
   ]
  },
  {
   "cell_type": "code",
   "execution_count": null,
   "metadata": {
    "collapsed": true
   },
   "outputs": [],
   "source": [
    "%pylab inline\n",
    "from serial.tools.list_ports import comports, grep\n",
    "import serial\n",
    "\n",
    " \n",
    "print [j for j in comports()]\n",
    "\n",
    "dev_name = [j[0] for j in grep(\"GDS_3254\")][0]\n",
    "print dev_name\n",
    "\n",
    "with serial.Serial(dev_name) as s:\n",
    "    s.write('*idn?\\n')\n",
    "    result = s.readline()\n",
    "result"
   ]
  },
  {
   "cell_type": "code",
   "execution_count": null,
   "metadata": {
    "collapsed": true
   },
   "outputs": [],
   "source": [
    "def capture_channel(ch_num):\n",
    "\n",
    "    with serial.Serial(dev_name) as s:\n",
    "        s.write(':ACQ1:MEM?\\n')\n",
    "        def upto_hashtag():\n",
    "            this_char = s.read(1)\n",
    "            this_line = ''\n",
    "            while this_char != '#':          \n",
    "                this_line += this_char\n",
    "                this_char = s.read(1)\n",
    "            return this_line\n",
    "\n",
    "        preamble = upto_hashtag().split(';')\n",
    "   \n",
    "        mem = int(preamble[0].split(',')[1])\n",
    "    \n",
    "        for x in range(19):\n",
    "            list = preamble[x].split(',')\n",
    "            print list\n",
    "    \n",
    "        s.read(6)# length of 550000\n",
    "        data = s.read(25000)\n",
    "        wave = fromstring(data,dtype=int)\n",
    "    \n",
    "        source = preamble[4].split(',')[1]\n",
    "        print source\n",
    "        chnum = int(source[2])\n",
    "        print chnum\n",
    "        \n",
    "        if ch_num == chnum:\n",
    "            yscale = preamble[6].split(',')[1]\n",
    "            print yscale\n",
    "            yunits = preamble[5].split(',')[1]\n",
    "            print yunits\n",
    "            xscale = preamble[10].split(',')[1]\n",
    "            print xscale\n",
    "            xunits = preamble[9].split(',')[1]\n",
    "            print xunits\n",
    "        else: \n",
    "            wave = ('error')\n",
    "        return wave\n",
    "          \n",
    "plot(capture_channel(2))"
   ]
  },
  {
   "cell_type": "code",
   "execution_count": null,
   "metadata": {},
   "outputs": [],
   "source": [
    "with serial.Serial(dev_name, timeout=1) as s:\n",
    "    print s.read(50000)"
   ]
  },
  {
   "cell_type": "code",
   "execution_count": null,
   "metadata": {
    "collapsed": true
   },
   "outputs": [],
   "source": [
    "preamble = 'one,1;two,2;three,3;four,4;'.split(';')\n",
    "one = int(preamble[0].split(',')[1])\n",
    "one"
   ]
  },
  {
   "cell_type": "code",
   "execution_count": null,
   "metadata": {
    "collapsed": true
   },
   "outputs": [],
   "source": [
    "preamble_str = 'one,1;two,2;three,3;four,4;'\n",
    "preamble = dict([j.split(',') for j in preamble_str.split(';') if len(j.split(',')) == 2])\n",
    "preamble['four']"
   ]
  },
  {
   "cell_type": "code",
   "execution_count": null,
   "metadata": {
    "collapsed": true
   },
   "outputs": [],
   "source": [
    "a = 'memory length,25000'.split(',')\n",
    "int(a[1])"
   ]
  },
  {
   "cell_type": "code",
   "execution_count": null,
   "metadata": {
    "collapsed": true
   },
   "outputs": [],
   "source": [
    "with serial.Serial(dev_name) as s:\n",
    "    s.write(':ACQ1:MEM?\\n')\n",
    "    def read_semicolon_line():\n",
    "        this_char = s.read(1)\n",
    "        this_line = ''\n",
    "        while this_char != ';':          \n",
    "            this_line += this_char\n",
    "            this_char = s.read(1)\n",
    "        return this_line\n",
    "    \n",
    "    mylist=[i for i in range(21)]\n",
    "    for x in range(21):\n",
    "        mylist[x]=read_semicolon_line().split(',')\n",
    "    a = mylist[20]\n",
    "    print a"
   ]
  },
  {
   "cell_type": "code",
   "execution_count": null,
   "metadata": {
    "collapsed": true
   },
   "outputs": [],
   "source": [
    "with serial.Serial(dev_name) as s:\n",
    "    s.write(':ACQ1:MEM?\\n')\n",
    "    info = s.readline()\n",
    "    infolist = info.split('#')\n",
    "    print infolist\n",
    "    \n",
    "preamble = infolist[0].split(';')\n",
    "mem = int(preamble[0].split(',')[1])\n",
    "print mem\n",
    "\n",
    "\n",
    "\n",
    "wave = infolist[1].split('550000')\n",
    "print \"wave:\",wave[0]\n",
    "newwave = fromstring(wave,dtype=float)\n",
    "plot (newwave)\n",
    "\n",
    "wave\n",
    "\n"
   ]
  }
 ],
 "metadata": {
  "kernelspec": {
   "display_name": "Python 2",
   "language": "python",
   "name": "python2"
  },
  "language_info": {
   "codemirror_mode": {
    "name": "ipython",
    "version": 2
   },
   "file_extension": ".py",
   "mimetype": "text/x-python",
   "name": "python",
   "nbconvert_exporter": "python",
   "pygments_lexer": "ipython2",
   "version": "2.7.13"
  }
 },
 "nbformat": 4,
 "nbformat_minor": 2
}
