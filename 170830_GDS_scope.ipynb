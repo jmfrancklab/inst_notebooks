{
 "cells": [
  {
   "cell_type": "code",
   "execution_count": 1,
   "metadata": {},
   "outputs": [
    {
     "name": "stdout",
     "output_type": "stream",
     "text": [
      "Populating the interactive namespace from numpy and matplotlib\n"
     ]
    }
   ],
   "source": [
    "%pylab inline\n",
    "from serial.tools.list_ports import comports\n",
    "import serial"
   ]
  },
  {
   "cell_type": "code",
   "execution_count": 2,
   "metadata": {},
   "outputs": [
    {
     "data": {
      "text/plain": [
       "[('COM3',\n",
       "  'Intel(R) Active Management Technology - SOL (COM3)',\n",
       "  'PCI\\\\VEN_8086&DEV_A13D&SUBSYS_06B91028&REV_31\\\\3&11583659&0&B3'),\n",
       " ('COM1', 'Communications Port (COM1)', 'ACPI\\\\PNP0501\\\\0'),\n",
       " ('COM5', 'USB Serial Device (COM5)', 'USB VID:PID=2184:0006 SNR=GEQ110185')]"
      ]
     },
     "execution_count": 2,
     "metadata": {},
     "output_type": "execute_result"
    }
   ],
   "source": [
    "[j for j in comports()]"
   ]
  },
  {
   "cell_type": "code",
   "execution_count": 3,
   "metadata": {},
   "outputs": [],
   "source": [
    "def id_instrument(textidn):\n",
    "    for j in comports():\n",
    "        port_id = j[0] # based on the previous, this is the port number\n",
    "\n",
    "    with serial.Serial(port_id) as s:\n",
    "        s.write('*idn?\\n')\n",
    "        result = s.readline()\n",
    "        if textidn in result:\n",
    "            return port_id"
   ]
  },
  {
   "cell_type": "code",
   "execution_count": 4,
   "metadata": {},
   "outputs": [
    {
     "name": "stdout",
     "output_type": "stream",
     "text": [
      "COM5\n"
     ]
    }
   ],
   "source": [
    "#Checking id_instrument runs\n",
    "idn = id_instrument('GDS-3254')\n",
    "print idn"
   ]
  },
  {
   "cell_type": "code",
   "execution_count": 5,
   "metadata": {
    "collapsed": true
   },
   "outputs": [],
   "source": [
    "def instrument_instance(textidn):\n",
    "    return serial.Serial(id_instrument(textidn))"
   ]
  },
  {
   "cell_type": "code",
   "execution_count": 6,
   "metadata": {},
   "outputs": [
    {
     "name": "stdout",
     "output_type": "stream",
     "text": [
      "GW,GDS-3254,GEQ110185,V1.25\n",
      "\n"
     ]
    }
   ],
   "source": [
    "with instrument_instance('GDS-3254') as s:\n",
    "    s.write('*idn?\\n')\n",
    "    print s.readline()"
   ]
  },
  {
   "cell_type": "code",
   "execution_count": 7,
   "metadata": {
    "collapsed": true
   },
   "outputs": [],
   "source": [
    "def retrieve_waveform(instname='GDS-3254'):\n",
    "    \"\"\"Retrieve waveform and associated parameters form the scope.\n",
    "\n",
    "    Comprises the following steps:\n",
    "\n",
    "    * opens the port to the scope\n",
    "    * acquires what is saved in memory as string\n",
    "    * Divides this string at hashtag which separates settings from waveform\n",
    "\n",
    "    Parameters\n",
    "    ==========\n",
    "\n",
    "    instname : str\n",
    "\n",
    "        The instrument name.  Specifically, a string that's returned as\n",
    "        part of the response to the ``*idn?`` command.\n",
    "\n",
    "    Returns\n",
    "    =======\n",
    "\n",
    "    x_axis : ndarray\n",
    "\n",
    "        The *x*-axis (time-base) of the data.\n",
    "\n",
    "    data : ndarray\n",
    "\n",
    "        A 1-d array containing the scope data.\n",
    "\n",
    "    params : dict\n",
    "\n",
    "        A dictionary of the parameters returned by the scope.\n",
    "    \"\"\"\n",
    "    params = {}\n",
    "    with instrument_instance(instname) as s:\n",
    "        s.write(':ACQ2:MEM?\\n')\n",
    "        def upto_hashtag():\n",
    "            this_char = s.read(1)\n",
    "            this_line = ''\n",
    "            while this_char != '#':          \n",
    "                this_line += this_char\n",
    "                this_char = s.read(1)\n",
    "            return this_line\n",
    "\n",
    "        #Further divides settings\n",
    "        preamble = upto_hashtag().split(';')\n",
    "        \n",
    "        #Retrieves 'memory' of 25000 from settings\n",
    "        #Waveform data is 50,000 bytes of binary data (2*mem)\n",
    "        mem = int(preamble[0].split(',')[1])\n",
    "        \n",
    "        #Generates list of parameters in the preamble\n",
    "        param = dict([tuple(x.split(',')) for x in preamble if len(x.split(',')) == 2])\n",
    "        \n",
    "        #Reads waveform data of 50,000 bytes\n",
    "        s.read(6)# length of 550000\n",
    "        data = s.read(50001)\n",
    "        assert data[-1] == '\\n', \"data is not followed by newline!\"\n",
    "        data = data[:-1]\n",
    "\n",
    "    # convert the binary string\n",
    "    data_array = fromstring(data,dtype='i2')\n",
    "    data_array =  double(data_array)/double(2**(2*8-1))\n",
    "\n",
    "    # I could do the following\n",
    "    #x_axis = r_[0:len(data_array)] * float(param['Sampling Period'])\n",
    "    # but since I'm \"using up\" the sampling period, do this:\n",
    "    x_axis = r_[0:len(data_array)] * float(param.pop('Sampling Period'))\n",
    "    # r_[... is used by numpy to construct arrays on the fly\n",
    "\n",
    "    # Similarly, use V/div scale to scale the y values of the data\n",
    "    data_array *= float(param.pop('Vertical Scale'))/0.2 # we saw\n",
    "    #              empirically that 0.2 corresponds to about 1 division\n",
    "\n",
    "    return x_axis,data_array,param"
   ]
  },
  {
   "cell_type": "code",
   "execution_count": 8,
   "metadata": {
    "collapsed": true
   },
   "outputs": [],
   "source": [
    "x_axis,data,param = retrieve_waveform()"
   ]
  },
  {
   "cell_type": "code",
   "execution_count": 9,
   "metadata": {},
   "outputs": [
    {
     "data": {
      "text/plain": [
       "<matplotlib.text.Text at 0x6a3c1d0>"
      ]
     },
     "execution_count": 9,
     "metadata": {},
     "output_type": "execute_result"
    },
    {
     "data": {
      "image/png": "[encoded data removed]",
      "text/plain": [
       "<matplotlib.figure.Figure at 0x7ac57f0>"
      ]
     },
     "metadata": {},
     "output_type": "display_data"
    }
   ],
   "source": [
    "title(param['Source'])\n",
    "plot(x_axis/1e-6,data)\n",
    "xlabel(r'$t$ / $\\mu s$')"
   ]
  },
  {
   "cell_type": "markdown",
   "metadata": {},
   "source": [
    "I'm not worrying about automatically interpreting the units here, because that will all be handled when we make our special data object.\n",
    "\n",
    "I do want to check that I'm interpreting the y scale correctly, so let's look at the peak to peak voltage here, and compare to what we measure with cursors on the screen:"
   ]
  },
  {
   "cell_type": "code",
   "execution_count": null,
   "metadata": {},
   "outputs": [],
   "source": [
    "data.max()-data.min()"
   ]
  },
  {
   "cell_type": "code",
   "execution_count": null,
   "metadata": {
    "collapsed": true
   },
   "outputs": [],
   "source": []
  }
 ],
 "metadata": {
  "kernelspec": {
   "display_name": "Python 2",
   "language": "python",
   "name": "python2"
  },
  "language_info": {
   "codemirror_mode": {
    "name": "ipython",
    "version": 2
   },
   "file_extension": ".py",
   "mimetype": "text/x-python",
   "name": "python",
   "nbconvert_exporter": "python",
   "pygments_lexer": "ipython2",
   "version": "2.7.13"
  }
 },
 "nbformat": 4,
 "nbformat_minor": 2
}
